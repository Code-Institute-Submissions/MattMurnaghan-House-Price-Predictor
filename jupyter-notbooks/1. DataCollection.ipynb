{
 "cells": [
  {
   "attachments": {},
   "cell_type": "markdown",
   "metadata": {},
   "source": [
    "# Data Collection Notebook\n",
    "\n",
    "## Objectives\n",
    "Fetch data from Kaggle and save it as raw data.\n",
    "Inspect the data and save it under outputs/datasets/collection\n",
    "\n",
    "\n",
    "## Inputs\n",
    "\n",
    "Kaggle JSON file - the authentication token.\n",
    "\n",
    "## Outputs\n",
    "\n",
    "Generate Dataset: outputs/datasets/collection/TelcoCustomerChurn.csv\n",
    "\n",
    "## Additional Comments\n",
    "Standard practice would not be to push the collected data to a public repository, but as this is fictious data and there are no privacy concerns, the data will be hosted publicly.\n",
    "\n",
    "---"
   ]
  },
  {
   "attachments": {},
   "cell_type": "markdown",
   "metadata": {},
   "source": [
    "# Change Working Directory\n",
    "\n",
    "We need to ensure that the terminal commands ran from inside the notebook are executed from inside the root directory of the project. Please don't run these commands multiple times, as you will progressively step up through the directories your project is housed in."
   ]
  },
  {
   "cell_type": "markdown",
   "metadata": {},
   "source": []
  },
  {
   "cell_type": "code",
   "execution_count": 1,
   "metadata": {},
   "outputs": [
    {
     "data": {
      "text/plain": [
       "'/Users/matthewmurnaghan/Data-Science-Projects/AI-Projects/House-Price-Predictor/jupyter-notbooks'"
      ]
     },
     "execution_count": 1,
     "metadata": {},
     "output_type": "execute_result"
    }
   ],
   "source": [
    "import os\n",
    "current_dir = os.getcwd()\n",
    "current_dir"
   ]
  },
  {
   "cell_type": "code",
   "execution_count": null,
   "metadata": {},
   "outputs": [],
   "source": []
  }
 ],
 "metadata": {
  "kernelspec": {
   "display_name": ".venv",
   "language": "python",
   "name": "python3"
  },
  "language_info": {
   "codemirror_mode": {
    "name": "ipython",
    "version": 3
   },
   "file_extension": ".py",
   "mimetype": "text/x-python",
   "name": "python",
   "nbconvert_exporter": "python",
   "pygments_lexer": "ipython3",
   "version": "3.10.10"
  },
  "orig_nbformat": 4
 },
 "nbformat": 4,
 "nbformat_minor": 2
}
